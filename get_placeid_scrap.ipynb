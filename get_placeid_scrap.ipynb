{
 "cells": [
  {
   "cell_type": "markdown",
   "id": "a9e21c82",
   "metadata": {},
   "source": [
    "Takes a lat/lon or address,\n",
    "\n",
    "Queries nearby places via Google API, needs activation of billing or free trial to generate API key. A single location name can have multiple addresses/ place_ids. This is a bit tricky.\n",
    "\n",
    "You can check place_id also here https://developers.google.com/maps/documentation/places/web-service/place-id\n",
    "\n",
    "Filters likely candidates (restaurants, cafes, etc.),\n",
    "\n",
    "And checks which have Popular Times via Selenium."
   ]
  },
  {
   "cell_type": "code",
   "execution_count": null,
   "id": "6cbcefdd",
   "metadata": {},
   "outputs": [],
   "source": [
    "API_KEY = \"Replace with your Google API Key\""
   ]
  },
  {
   "cell_type": "code",
   "execution_count": 31,
   "id": "6015df7b",
   "metadata": {},
   "outputs": [
    {
     "name": "stdout",
     "output_type": "stream",
     "text": [
      "Address: Prereeta Beach, Puri, Odisha, India\n",
      "Place ID: ChIJidc0oh3FGToRXA5avcinzIk\n"
     ]
    }
   ],
   "source": [
    "import googlemaps\n",
    "\n",
    "def get_place_id(address, api_key):\n",
    "    # Initialize client\n",
    "    gmaps = googlemaps.Client(key=api_key)\n",
    "\n",
    "    # Use the geocode API to get place info\n",
    "    geocode_result = gmaps.geocode(address)\n",
    "\n",
    "    if not geocode_result:\n",
    "        print(f\"No results found for: {address}\")\n",
    "        return None\n",
    "\n",
    "    # Extract place_id\n",
    "    place_id = geocode_result[0].get(\"place_id\")\n",
    "    print(f\"Address: {address}\")\n",
    "    print(f\"Place ID: {place_id}\")\n",
    "    return place_id\n",
    "\n",
    "\n",
    "# Example usage\n",
    "if __name__ == \"__main__\":\n",
    "\n",
    "    # address = \"NOCHIKUPPAM BEACH Santhome, Chennai, Tamil Nadu 600004, India\"\n",
    "    # place_id = get_place_id(address, API_KEY)\n",
    "\n",
    "\n",
    "    address = \"Prereeta Beach, Puri, Odisha, India\"\n",
    "    place_id = get_place_id(address, API_KEY)\n"
   ]
  },
  {
   "cell_type": "markdown",
   "id": "31bb9b9f",
   "metadata": {},
   "source": [
    "Start selenium"
   ]
  },
  {
   "cell_type": "code",
   "execution_count": 32,
   "id": "3d113f14",
   "metadata": {},
   "outputs": [],
   "source": [
    "from selenium import webdriver\n",
    "from selenium.webdriver.firefox.service import Service\n",
    "from selenium.webdriver.firefox.options import Options\n",
    "from selenium.webdriver.common.by import By\n",
    "import time\n",
    "import tempfile\n",
    "import re\n",
    "import pandas as pd\n",
    "\n",
    "options = Options()\n",
    "options.binary_location = \"/home/naveen/tools/firefox64/firefox\"\n",
    "options.profile = tempfile.mkdtemp()\n",
    "service = Service(executable_path=\"/home/naveen/miniconda3/envs/webscrap/bin/geckodriver\")"
   ]
  },
  {
   "cell_type": "markdown",
   "id": "25165287",
   "metadata": {},
   "source": [
    "Test website"
   ]
  },
  {
   "cell_type": "code",
   "execution_count": 33,
   "id": "c6170c4f",
   "metadata": {},
   "outputs": [
    {
     "name": "stdout",
     "output_type": "stream",
     "text": [
      "Google\n"
     ]
    }
   ],
   "source": [
    "browser = webdriver.Firefox(service=service, options=options)\n",
    "browser.get(\"https://www.google.com\")\n",
    "print(browser.title)\n",
    "browser.quit()"
   ]
  },
  {
   "cell_type": "code",
   "execution_count": 34,
   "id": "c3b49a73",
   "metadata": {},
   "outputs": [
    {
     "name": "stdout",
     "output_type": "stream",
     "text": [
      "Prereeta Beach - Google Maps\n"
     ]
    }
   ],
   "source": [
    "url_string=f'https://www.google.com/maps/place/?q=place_id:{place_id}'\n",
    "browser = webdriver.Firefox(service=service, options=options)\n",
    "browser.get(url_string)\n",
    "\n",
    "# Wait for consent dialog and click \"Accept all\" (text may vary by language)\n",
    "try:\n",
    "    time.sleep(5)\n",
    "    accept_button = browser.find_element(By.XPATH, \"//button[contains(., 'Avvis alle')]\")\n",
    "    accept_button.click()\n",
    "    time.sleep(1)\n",
    "except Exception as e:\n",
    "    print(\"Consent button not found or already accepted:\", e)\n",
    "\n",
    "print(browser.title)\n",
    "browser.execute_script(\"window.scrollTo(0, 20)\")"
   ]
  },
  {
   "cell_type": "code",
   "execution_count": 35,
   "id": "5cb05ab6",
   "metadata": {},
   "outputs": [
    {
     "name": "stdout",
     "output_type": "stream",
     "text": [
      "Redirected URL: https://www.google.com/maps/place/Prereeta+Beach/@19.799435,85.8418667,17z/data=!3m1!4b1!4m6!3m5!1s0x3a19c51da234d789:0x89cca7c8bd5a0e5c!8m2!3d19.799435!4d85.8418667!16s%2Fg%2F11q3x0h_j8?entry=ttu&g_ep=EgoyMDI1MTAyOC4wIKXMDSoASAFQAw%3D%3D\n",
      "Latitude: 19.799435 Longitude: 85.8418667\n"
     ]
    }
   ],
   "source": [
    "# Get redirected URL after consent\n",
    "full_url = browser.current_url\n",
    "print(\"Redirected URL:\", full_url)\n",
    "\n",
    "# Extract coordinates\n",
    "match = re.search(r'@(-?\\d+\\.\\d+),(-?\\d+\\.\\d+)', full_url)\n",
    "if match:\n",
    "    lat, lon = map(float, match.groups())\n",
    "    print(\"Latitude:\", lat, \"Longitude:\", lon)\n",
    "else:\n",
    "    print(\"Coordinates not found in URL\")\n"
   ]
  },
  {
   "cell_type": "markdown",
   "id": "274d9a4d",
   "metadata": {},
   "source": [
    "Address"
   ]
  },
  {
   "cell_type": "code",
   "execution_count": 36,
   "id": "3fa959fa",
   "metadata": {},
   "outputs": [
    {
     "name": "stdout",
     "output_type": "stream",
     "text": [
      "Adresse: QRXR+QP, Puri, Odisha 752002, India \n",
      "QRXR+QP, Puri, Odisha 752002, India \n"
     ]
    }
   ],
   "source": [
    "#get the addresss\n",
    "data_item_id=browser.find_elements(By.XPATH,\"//button[@data-item-id='address']\")\n",
    "\n",
    "for div in data_item_id:\n",
    "    if div.get_attribute('aria-label'):\n",
    "            print(div.get_attribute('aria-label'))\n",
    "            string=div.get_attribute('aria-label')\n",
    "            print(string[string.find(\": \")+2:])\n"
   ]
  },
  {
   "cell_type": "markdown",
   "id": "9aa71c60",
   "metadata": {},
   "source": [
    "Popular Time Info"
   ]
  },
  {
   "cell_type": "code",
   "execution_count": 37,
   "id": "4d979268",
   "metadata": {},
   "outputs": [],
   "source": [
    "from datetime import datetime, timedelta\n",
    "def next_hour_str(hour_str):\n",
    "    \"\"\"Given 'HH:MM', return next hour as string (with wrap-around).\"\"\"\n",
    "    t = datetime.strptime(hour_str, \"%H:%M\") + timedelta(hours=1)\n",
    "    return t.strftime(\"%H:%M\")"
   ]
  },
  {
   "cell_type": "code",
   "execution_count": 38,
   "id": "f5ddd8f9",
   "metadata": {},
   "outputs": [
    {
     "name": "stdout",
     "output_type": "stream",
     "text": [
      "      day   hour  busyness_percent\n",
      "0  Sunday  00:00                53\n",
      "1  Sunday  01:00                53\n",
      "2  Sunday  02:00                51\n",
      "3  Sunday  03:00                31\n",
      "4  Sunday  04:00                36\n"
     ]
    }
   ],
   "source": [
    "days = [\"Sunday\", \"Monday\", \"Tuesday\", \"Wednesday\", \"Thursday\", \"Friday\", \"Saturday\"]\n",
    "\n",
    "# Find all hourly divs\n",
    "hourly_divs = browser.find_elements(By.CSS_SELECTOR, 'div.dpoVLd')\n",
    "\n",
    "data = []\n",
    "last_hour = None\n",
    "day_idx = 0\n",
    "current_day = days[day_idx]\n",
    "first_entry = True  # flag for first hour\n",
    "\n",
    "def next_hour_str(hour_str):\n",
    "    t = datetime.strptime(hour_str, \"%H:%M\") + timedelta(hours=1)\n",
    "    return t.strftime(\"%H:%M\")\n",
    "\n",
    "def hour_decreased(last_hour, new_hour):\n",
    "    \"\"\"Return True if new_hour is earlier than last_hour (midnight rollover).\"\"\"\n",
    "    lh = datetime.strptime(last_hour, \"%H:%M\")\n",
    "    nh = datetime.strptime(new_hour, \"%H:%M\")\n",
    "    return nh < lh\n",
    "\n",
    "for div in hourly_divs:\n",
    "    aria_label = div.get_attribute(\"aria-label\").strip()\n",
    "\n",
    "    # Case 1: Regular hourly data\n",
    "    match_hourly = re.findall(r'(\\d+)\\s*%\\s*hektisk kl\\. (\\d{2}:\\d{2})', aria_label)\n",
    "    if match_hourly:\n",
    "        for percent, hour in match_hourly:\n",
    "\n",
    "            # Handle day rollover (including first entry starting later than 00:00)\n",
    "            if last_hour and hour_decreased(last_hour, hour):\n",
    "                day_idx = (day_idx + 1) % len(days)\n",
    "                current_day = days[day_idx]\n",
    "\n",
    "            # First entry sets last_hour without incrementing day\n",
    "            if first_entry:\n",
    "                first_entry = False\n",
    "\n",
    "            last_hour = hour\n",
    "            data.append({\n",
    "                'day': current_day,\n",
    "                'hour': hour,\n",
    "                'busyness_percent': int(percent),\n",
    "            })\n",
    "        continue\n",
    "\n",
    "    # Case 2: Current time entry\n",
    "    match_now = re.findall(r'For øyeblikket (\\d+)\\s*%\\s*hektisk, vanligvis (\\d+)\\s*%\\s*hektisk\\.', aria_label)\n",
    "    if match_now and last_hour:\n",
    "        for current, usual in match_now:\n",
    "            next_hour = next_hour_str(last_hour)\n",
    "\n",
    "            # Detect rollover for inferred hour\n",
    "            if last_hour == \"23:00\":\n",
    "                day_idx = (day_idx + 1) % len(days)\n",
    "                current_day = days[day_idx]\n",
    "\n",
    "            data.append({\n",
    "                'day': current_day,\n",
    "                'hour': next_hour,\n",
    "                'busyness_percent': int(usual),\n",
    "            })\n",
    "            last_hour = next_hour  # advance for subsequent entries\n",
    "\n",
    "# Build DataFrame\n",
    "df = pd.DataFrame(data)\n",
    "\n",
    "# Sort properly\n",
    "df['day'] = pd.Categorical(df['day'], categories=days, ordered=True)\n",
    "df = df.sort_values(['day', 'hour']).reset_index(drop=True)\n",
    "\n",
    "print(df.head(5))\n"
   ]
  },
  {
   "cell_type": "code",
   "execution_count": 39,
   "id": "a9408e35",
   "metadata": {},
   "outputs": [],
   "source": [
    "browser.quit()"
   ]
  },
  {
   "cell_type": "markdown",
   "id": "5f2fd3b5",
   "metadata": {},
   "source": [
    "Make some plots \n"
   ]
  },
  {
   "cell_type": "code",
   "execution_count": 40,
   "id": "9c70874d",
   "metadata": {},
   "outputs": [
    {
     "name": "stderr",
     "output_type": "stream",
     "text": [
      "/tmp/ipykernel_1791/890125568.py:9: FutureWarning: The default value of observed=False is deprecated and will change to observed=True in a future version of pandas. Specify observed=False to silence this warning and retain the current behavior\n",
      "  pivot_df = df.pivot_table(\n"
     ]
    },
    {
     "data": {
      "image/png": "[encoded data removed]",
      "text/plain": [
       "<Figure size 1500x500 with 2 Axes>"
      ]
     },
     "metadata": {},
     "output_type": "display_data"
    }
   ],
   "source": [
    "import matplotlib.pyplot as plt\n",
    "import seaborn as sns\n",
    "import pandas as pd\n",
    "\n",
    "# Ensure df has the right columns\n",
    "# Columns: ['day', 'hour', 'busyness_percent']\n",
    "\n",
    "# Handle duplicates: use pivot_table with mean\n",
    "pivot_df = df.pivot_table(\n",
    "    index='day',\n",
    "    columns='hour',\n",
    "    values='busyness_percent',\n",
    "    aggfunc='mean'   # or 'median'\n",
    ")\n",
    "\n",
    "# Order days for a nice weekly layout\n",
    "ordered_days = ['Monday', 'Tuesday', 'Wednesday', 'Thursday', 'Friday', 'Saturday', 'Sunday']\n",
    "pivot_df = pivot_df.reindex(ordered_days)\n",
    "\n",
    "# Plot the heatmap\n",
    "plt.figure(figsize=(15, 5))\n",
    "sns.set_theme(style=\"white\")\n",
    "\n",
    "ax = sns.heatmap(\n",
    "    pivot_df,\n",
    "    cmap=\"YlOrRd\",          # Warm palette\n",
    "    linewidths=0.5,\n",
    "    linecolor='white',\n",
    "    cbar_kws={'label': 'Busyness (%)'},\n",
    "    square=False,\n",
    ")\n",
    "\n",
    "# Titles & labels for a publication look\n",
    "plt.title(\n",
    "    \"Hourly Busyness Patterns Across the Week\",\n",
    "    fontsize=18,\n",
    "    fontweight='bold',\n",
    "    pad=20\n",
    ")\n",
    "plt.xlabel(\"Hour of the Day\", fontsize=14)\n",
    "plt.ylabel(\"\")\n",
    "plt.xticks(rotation=0, fontsize=11)\n",
    "plt.yticks(rotation=0, fontsize=11)\n",
    "\n",
    "# Clean layout\n",
    "plt.tight_layout()\n",
    "plt.show()\n"
   ]
  },
  {
   "cell_type": "markdown",
   "id": "a28b53aa",
   "metadata": {},
   "source": [
    "Alternatively use populartimes package"
   ]
  },
  {
   "cell_type": "code",
   "execution_count": 28,
   "id": "1749f9df",
   "metadata": {},
   "outputs": [
    {
     "data": {
      "text/plain": [
       "{'id': 'ChIJidc0oh3FGToRXA5avcinzIk',\n",
       " 'name': 'Prereeta Beach',\n",
       " 'address': 'QRXR+QP, Puri, Odisha 752002, India',\n",
       " 'types': ['establishment', 'point_of_interest', 'tourist_attraction'],\n",
       " 'coordinates': {'lat': 19.799435, 'lng': 85.8418667},\n",
       " 'rating': 4.4,\n",
       " 'rating_n': 18,\n",
       " 'populartimes': [{'name': 'Monday',\n",
       "   'data': [51,\n",
       "    43,\n",
       "    43,\n",
       "    39,\n",
       "    82,\n",
       "    58,\n",
       "    34,\n",
       "    17,\n",
       "    14,\n",
       "    26,\n",
       "    41,\n",
       "    48,\n",
       "    46,\n",
       "    36,\n",
       "    31,\n",
       "    36,\n",
       "    43,\n",
       "    46,\n",
       "    39,\n",
       "    36,\n",
       "    46,\n",
       "    63,\n",
       "    70,\n",
       "    53]},\n",
       "  {'name': 'Tuesday',\n",
       "   'data': [53,\n",
       "    68,\n",
       "    95,\n",
       "    100,\n",
       "    29,\n",
       "    24,\n",
       "    34,\n",
       "    24,\n",
       "    34,\n",
       "    39,\n",
       "    56,\n",
       "    43,\n",
       "    41,\n",
       "    29,\n",
       "    39,\n",
       "    21,\n",
       "    29,\n",
       "    34,\n",
       "    68,\n",
       "    56,\n",
       "    46,\n",
       "    34,\n",
       "    41,\n",
       "    29]},\n",
       "  {'name': 'Wednesday',\n",
       "   'data': [31,\n",
       "    21,\n",
       "    24,\n",
       "    24,\n",
       "    34,\n",
       "    46,\n",
       "    43,\n",
       "    63,\n",
       "    58,\n",
       "    46,\n",
       "    34,\n",
       "    31,\n",
       "    39,\n",
       "    43,\n",
       "    43,\n",
       "    39,\n",
       "    29,\n",
       "    26,\n",
       "    26,\n",
       "    36,\n",
       "    46,\n",
       "    48,\n",
       "    43,\n",
       "    43]},\n",
       "  {'name': 'Thursday',\n",
       "   'data': [51,\n",
       "    58,\n",
       "    65,\n",
       "    48,\n",
       "    65,\n",
       "    70,\n",
       "    48,\n",
       "    39,\n",
       "    34,\n",
       "    34,\n",
       "    41,\n",
       "    46,\n",
       "    41,\n",
       "    36,\n",
       "    34,\n",
       "    39,\n",
       "    41,\n",
       "    34,\n",
       "    21,\n",
       "    31,\n",
       "    24,\n",
       "    31,\n",
       "    17,\n",
       "    19]},\n",
       "  {'name': 'Friday',\n",
       "   'data': [24,\n",
       "    41,\n",
       "    51,\n",
       "    63,\n",
       "    63,\n",
       "    56,\n",
       "    68,\n",
       "    56,\n",
       "    46,\n",
       "    31,\n",
       "    31,\n",
       "    41,\n",
       "    39,\n",
       "    39,\n",
       "    39,\n",
       "    58,\n",
       "    68,\n",
       "    78,\n",
       "    75,\n",
       "    48,\n",
       "    39,\n",
       "    31,\n",
       "    34,\n",
       "    39]},\n",
       "  {'name': 'Saturday',\n",
       "   'data': [48,\n",
       "    51,\n",
       "    48,\n",
       "    43,\n",
       "    36,\n",
       "    46,\n",
       "    75,\n",
       "    53,\n",
       "    60,\n",
       "    43,\n",
       "    51,\n",
       "    41,\n",
       "    43,\n",
       "    31,\n",
       "    39,\n",
       "    43,\n",
       "    39,\n",
       "    34,\n",
       "    26,\n",
       "    31,\n",
       "    41,\n",
       "    53,\n",
       "    60,\n",
       "    43]},\n",
       "  {'name': 'Sunday',\n",
       "   'data': [53,\n",
       "    53,\n",
       "    51,\n",
       "    31,\n",
       "    36,\n",
       "    43,\n",
       "    53,\n",
       "    56,\n",
       "    68,\n",
       "    78,\n",
       "    73,\n",
       "    73,\n",
       "    63,\n",
       "    48,\n",
       "    34,\n",
       "    31,\n",
       "    34,\n",
       "    48,\n",
       "    65,\n",
       "    63,\n",
       "    46,\n",
       "    34,\n",
       "    46,\n",
       "    51]}]}"
      ]
     },
     "execution_count": 28,
     "metadata": {},
     "output_type": "execute_result"
    }
   ],
   "source": [
    "import populartimes\n",
    "populartimes.get_id(API_KEY, place_id)"
   ]
  },
  {
   "cell_type": "markdown",
   "id": "ce4cf334",
   "metadata": {},
   "source": [
    "There is also an option to pull places by catergories and limits using populartimes. See supported types here: https://developers.google.com/maps/documentation/places/web-service/legacy/supported_types "
   ]
  },
  {
   "cell_type": "code",
   "execution_count": null,
   "id": "4c976f99",
   "metadata": {},
   "outputs": [],
   "source": [
    "bound_lower = (19.792101, 85.816981)\n",
    "bound_upper = (19.796537, 85.819485)\n",
    "types = \"restaurant\"\n",
    "data = populartimes.get(API_KEY, types=types, p1=bound_lower, p2=bound_upper, all_places=False)"
   ]
  },
  {
   "cell_type": "markdown",
   "id": "edde807f",
   "metadata": {},
   "source": [
    "Use API to get list of places and place id - https://maps.googleapis.com/maps/api/place/nearbysearch/json?location=9.351588,76.3643404&radius=1000&key=\"APIKEY_TO_BE_REPLACED\"\n",
    "Use populartimes package to get popular times data for those place ids"
   ]
  }
 ],
 "metadata": {
  "kernelspec": {
   "display_name": "webscrap",
   "language": "python",
   "name": "python3"
  },
  "language_info": {
   "codemirror_mode": {
    "name": "ipython",
    "version": 3
   },
   "file_extension": ".py",
   "mimetype": "text/x-python",
   "name": "python",
   "nbconvert_exporter": "python",
   "pygments_lexer": "ipython3",
   "version": "3.11.13"
  }
 },
 "nbformat": 4,
 "nbformat_minor": 5
}
